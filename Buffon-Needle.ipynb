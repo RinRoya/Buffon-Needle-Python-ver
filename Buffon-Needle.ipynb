{
 "cells": [
  {
   "cell_type": "markdown",
   "metadata": {},
   "source": [
    "# Buffon-Needle"
   ]
  },
  {
   "cell_type": "code",
   "execution_count": 99,
   "metadata": {},
   "outputs": [],
   "source": [
    "# Mengimport library random untuk mengakses angka acak berdistribusi seragam\n",
    "# Mengimport library math  dan fungsi sinus\n",
    "import random\n",
    "import math"
   ]
  },
  {
   "cell_type": "code",
   "execution_count": 100,
   "metadata": {},
   "outputs": [
    {
     "name": "stdout",
     "output_type": "stream",
     "text": [
      "Masukkan jarak antar garis: 20\n",
      "Masukkan panjang jarum: 10\n",
      "Masukkan banyaknya jarum yang dijatuhkan: 3000\n"
     ]
    }
   ],
   "source": [
    "# MemasukanInput yang berupa panjang antar garis, panjang jarum, banyaknya jarum yang dijatuhkan\n",
    "d=int(input(\"Masukkan jarak antar garis: \"))\n",
    "l=int(input(\"Masukkan panjang jarum: \"))\n",
    "Nt=int(input(\"Masukkan banyaknya jarum yang dijatuhkan: \"))"
   ]
  },
  {
   "cell_type": "code",
   "execution_count": 117,
   "metadata": {},
   "outputs": [
    {
     "name": "stdout",
     "output_type": "stream",
     "text": [
      "33.47 %\n"
     ]
    }
   ],
   "source": [
    "# Inisialisasi variabel untuk menghitung banyaknya jarum yang menyentuh garis\n",
    "Ni=0\n",
    "\n",
    "# Memulai looping pengecekan jarum\n",
    "for i in range(Nt):\n",
    "    \n",
    "#   Membangkitkan bilangan acak berdistribusi seragam pada [0,1]\n",
    "    r1=random.uniform(0,1)\n",
    "    r2=random.uniform(0,1)\n",
    "    \n",
    "#   Menghitung titik tengah jarum ke garis terdekat\n",
    "    a=r1*d/2\n",
    "    \n",
    "#   Menghitung sudut jarum\n",
    "    theta=r2*math.pi\n",
    "    \n",
    "#   Mengecek apakah jarum berada pada garis atau tidak\n",
    "    if a<=l*math.sin(theta)/2:\n",
    "        Ni+=1\n",
    "        \n",
    "# Menghitung presentase jarum yang menyentuh garis \n",
    "P=Ni/Nt*100\n",
    "\n",
    "# Menampilkan hasil output\n",
    "print(\"{:.2f}\".format(P),\"%\")"
   ]
  }
 ],
 "metadata": {
  "kernelspec": {
   "display_name": "Python 3",
   "language": "python",
   "name": "python3"
  },
  "language_info": {
   "codemirror_mode": {
    "name": "ipython",
    "version": 3
   },
   "file_extension": ".py",
   "mimetype": "text/x-python",
   "name": "python",
   "nbconvert_exporter": "python",
   "pygments_lexer": "ipython3",
   "version": "3.7.0"
  }
 },
 "nbformat": 4,
 "nbformat_minor": 2
}
